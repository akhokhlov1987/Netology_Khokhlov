{
 "cells": [
  {
   "cell_type": "code",
   "execution_count": 7,
   "metadata": {},
   "outputs": [
    {
     "name": "stdout",
     "output_type": "stream",
     "text": [
      "Введите фразу 1 Ghjdthrf\n",
      "Введите фразу 2 Ghjdthrf\n",
      "Фразы равной длины\n",
      "Конец программы\n"
     ]
    }
   ],
   "source": [
    "# Задание 1\n",
    "phrase_1 = input('Введите фразу 1 ')\n",
    "phrase_2 = input('Введите фразу 2 ')\n",
    "\n",
    "if len(phrase_1) > len(phrase_2):\n",
    "    print('Фраза 1 длиннее чем фраза 2')\n",
    "elif len(phrase_1) == len(phrase_2):\n",
    "    print('Фразы равной длины')\n",
    "else:\n",
    "    print('Фраза 2 длиннее чем фраза 1')\n",
    "print('Конец программы')"
   ]
  },
  {
   "cell_type": "code",
   "execution_count": 18,
   "metadata": {},
   "outputs": [
    {
     "name": "stdout",
     "output_type": "stream",
     "text": [
      "Введите год для проверки 2020\n",
      "2020 Високосный год\n",
      "Конец программы\n"
     ]
    }
   ],
   "source": [
    "# Задание 2\n",
    "year = int(input('Введите год для проверки '))\n",
    "if (year % 4 == 0) and (year % 100 != 0) or (year % 400 == 0):\n",
    "    print(year, 'Високосный год')\n",
    "else:\n",
    "    print(year, 'Обычный год')\n",
    "print('Конец программы')"
   ]
  },
  {
   "cell_type": "code",
   "execution_count": 4,
   "metadata": {},
   "outputs": [
    {
     "name": "stdout",
     "output_type": "stream",
     "text": [
      "Введите день 15\n",
      "Введите месяц декабрь\n",
      "Ваш знак зодиаика: Стрелец\n"
     ]
    }
   ],
   "source": [
    "# Задание 3\n",
    "day = int(input('Введите день '))\n",
    "month = input('Введите месяц ')\n",
    "if (day >= 21 < 31 and month == 'март') or (day >= 1 <= 19 and month == 'апрель'):\n",
    "    print('Ваш знак зодиаика: Овен')\n",
    "elif (day >= 20 < 31 and month == 'апрель') or (day >= 1 <= 20 and month == 'май'):\n",
    "    print('Ваш знак зодиаика: Телец')\n",
    "elif (day >= 21 < 31 and month == 'май') or (day >= 1 <= 21 and month == 'июнь'):\n",
    "    print('Ваш знак зодиаика: Близнецы')\n",
    "elif (day >= 22 < 31 and month == 'июнь') or (day >= 1 <= 22 and month == 'июль'):\n",
    "    print('Ваш знак зодиаика: Рак')\n",
    "elif (day >= 23 < 31 and month == 'июль') or (day >= 1 <= 22 and month == 'август'):\n",
    "    print('Ваш знак зодиаика: Лев')\n",
    "elif (day >= 23 < 31 and month == 'август') or (day >= 1 <= 22 and month == 'сентябрь'):\n",
    "    print('Ваш знак зодиаика: Дева')\n",
    "elif (day >= 23 < 31 and month == 'сентябрь') or (day >= 1 <= 23 and month == 'октябрь'):\n",
    "    print('Ваш знак зодиаика: Весы')\n",
    "elif (day >= 24 < 31 and month == 'октябрь') or (day >= 1 <= 22 and month == 'ноябрь'):\n",
    "    print('Ваш знак зодиаика: Скорпион')\n",
    "elif (day >= 23 < 31 and month == 'ноябрь') or (day >= 1 <= 21 and month == 'декабрь'):\n",
    "    print('Ваш знак зодиаика: Стрелец')\n",
    "elif (day >= 22 < 31 and month == 'декабрь') or (day >= 1 <= 20 and month == 'январь'):\n",
    "    print('Ваш знак зодиаика: Козерог')\n",
    "elif (day >= 21 < 31 and month == 'январь') or (day >= 1 <= 18 and month == 'февраль'):\n",
    "    print('Ваш знак зодиаика: Водолей')\n",
    "elif (day >= 19 < 29 and month == 'февраль') or (day >= 1 <= 20 and month == 'март'):\n",
    "    print('Ваш знак зодиаика: Рыбы')\n",
    "else:\n",
    "    print('Ошибка')"
   ]
  },
  {
   "cell_type": "code",
   "execution_count": 28,
   "metadata": {},
   "outputs": [
    {
     "name": "stdout",
     "output_type": "stream",
     "text": [
      "Введите ширину коробки 55\n",
      "Введите длинну коробки 204\n",
      "Введите высоту коробки 15\n",
      "Упаковка для лыж\n"
     ]
    }
   ],
   "source": [
    "# Задание 4\n",
    "width = int(input('Введите ширину коробки '))\n",
    "length = int(input('Введите длинну коробки '))\n",
    "height = int(input('Введите высоту коробки '))\n",
    "\n",
    "if length > 200:\n",
    "    print('Упаковка для лыж')\n",
    "elif width > 15 < 50 or length > 15 < 50 or height > 15 < 50:\n",
    "    print('Коробка 2')    \n",
    "elif width < 15 and length < 15 and height < 15:\n",
    "    print('Коробка 1')    \n",
    "else:\n",
    "    print('Стандартная коробка 3')"
   ]
  }
 ],
 "metadata": {
  "kernelspec": {
   "display_name": "Python 3",
   "language": "python",
   "name": "python3"
  },
  "language_info": {
   "codemirror_mode": {
    "name": "ipython",
    "version": 3
   },
   "file_extension": ".py",
   "mimetype": "text/x-python",
   "name": "python",
   "nbconvert_exporter": "python",
   "pygments_lexer": "ipython3",
   "version": "3.8.3"
  }
 },
 "nbformat": 4,
 "nbformat_minor": 4
}
