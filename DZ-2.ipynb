{
 "cells": [
  {
   "cell_type": "code",
   "execution_count": 75,
   "metadata": {},
   "outputs": [
    {
     "name": "stdout",
     "output_type": "stream",
     "text": [
      "Введите слово kjhkgj\n",
      "hk\n"
     ]
    }
   ],
   "source": [
    "#Задание 1\n",
    "word = input('Введите слово ')\n",
    "if len(word) %2 != 0:\n",
    "    index_1 = int((len(word)-1)/2)\n",
    "    print(word[index_1])\n",
    "else:\n",
    "    index_2 = int((len(word)/2) - 1)\n",
    "    index_3 = int((len(word)/2) + 1)\n",
    "    print(word[index_2:index_3])"
   ]
  },
  {
   "cell_type": "code",
   "execution_count": 100,
   "metadata": {},
   "outputs": [
    {
     "name": "stdout",
     "output_type": "stream",
     "text": [
      "Введите число 15\n",
      "Введите число 36\n",
      "Введите число 64\n",
      "Введите число 0\n",
      "115\n"
     ]
    }
   ],
   "source": [
    "#Задание 2\n",
    "user_input = int(input('Введите число '))\n",
    "sum = 0\n",
    "while user_input != 0:\n",
    "    sum = sum + user_input\n",
    "    user_input = int(input('Введите число '))\n",
    "print(sum)"
   ]
  },
  {
   "cell_type": "code",
   "execution_count": 157,
   "metadata": {
    "scrolled": true
   },
   "outputs": [
    {
     "name": "stdout",
     "output_type": "stream",
     "text": [
      "Идеальные пары:\n",
      "('Alex', 'Emma')\n",
      "('Arthur', 'Kate')\n",
      "('John', 'Kira')\n",
      "('Peter', 'Liza')\n",
      "('Richard', 'Trisha')\n"
     ]
    }
   ],
   "source": [
    "#Задание 3\n",
    "#Выдвигаем гипотезу: лучшие рекомендации мы получим, \n",
    "#если просто отсортируем имена по алфавиту и познакомим людей с одинаковыми индексами после сортировки! \n",
    "#Но мы не будем никого знакомить, если кто-то может остаться без пары:\n",
    "\n",
    "boys = ['Peter', 'Alex', 'John', 'Arthur', 'Richard']\n",
    "girls = ['Kate', 'Liza', 'Kira', 'Emma', 'Trisha']\n",
    "if len(boys) != len(girls):\n",
    "    print('Внимание, кто-то может остаться без пары')\n",
    "else:\n",
    "    print('Идеальные пары:')\n",
    "    s_boys = sorted(boys)\n",
    "    s_girls = sorted(girls)\n",
    "    b_g = zip(s_boys, s_girls)\n",
    "    for name in b_g:\n",
    "        print(name)"
   ]
  },
  {
   "cell_type": "code",
   "execution_count": 155,
   "metadata": {
    "scrolled": true
   },
   "outputs": [
    {
     "name": "stdout",
     "output_type": "stream",
     "text": [
      "Alex и Emma\n",
      "Arthur и Kate\n",
      "John и Kira\n",
      "Peter и Liza\n",
      "Richard и Trisha\n"
     ]
    }
   ],
   "source": [
    "#Задание 3 вариант 2\n",
    "boys = ['Peter', 'Alex', 'John', 'Arthur', 'Richard']\n",
    "girls = ['Kate', 'Liza', 'Kira', 'Emma', 'Trisha']\n",
    "sorted_boys = sorted(boys)\n",
    "sorted_girls = sorted(girls)\n",
    "max_pairs = max({len(boys), len(girls)})\n",
    "for x in range(max_pairs):\n",
    "    print((sorted_boys[x]), 'и',(sorted_girls[x]))\n",
    "if len(boys) > max_pairs or len(girls) > max_pairs:\n",
    "   print('Внимание, кто-то может остаться без пары')"
   ]
  },
  {
   "cell_type": "code",
   "execution_count": 11,
   "metadata": {},
   "outputs": [
    {
     "name": "stdout",
     "output_type": "stream",
     "text": [
      "Средняя температура в странах:\n",
      "Thailand - 74.9 C\n",
      "Germany - 56.8 C\n",
      "Russia - 38.7 C\n",
      "Poland - 53.6 C\n"
     ]
    }
   ],
   "source": [
    "#Задание 4\n",
    "#У нас есть список, содержащий информацию о среднедневной температуре в Фаренгейтах за произвольный период по странам \n",
    "#Необходимо написать код, который рассчитает среднюю температуру за период в Цельсиях(!) для каждой страны.\n",
    "\n",
    "countries_temperature = [\n",
    "    ['Thailand', [75.2, 77, 78.8, 73.4, 68, 75.2, 77]],\n",
    "    ['Germany', [57.2, 55.4, 59, 59, 53.6]],\n",
    "    ['Russia', [35.6, 37.4, 39.2, 41, 42.8, 39.2, 35.6]],\n",
    "    ['Poland', [50, 50, 53.6, 57.2, 55.4, 55.4]]\n",
    "]\n",
    "\n",
    "\n",
    "print('Средняя температура в странах:')\n",
    "for country in countries_temperature:\n",
    "    avg = sum(country[1]) / len(country[1])\n",
    "    print(country[0], '-', round(avg, 1), 'C')\n",
    "\n",
    "  "
   ]
  }
 ],
 "metadata": {
  "kernelspec": {
   "display_name": "Python 3",
   "language": "python",
   "name": "python3"
  },
  "language_info": {
   "codemirror_mode": {
    "name": "ipython",
    "version": 3
   },
   "file_extension": ".py",
   "mimetype": "text/x-python",
   "name": "python",
   "nbconvert_exporter": "python",
   "pygments_lexer": "ipython3",
   "version": "3.8.3"
  }
 },
 "nbformat": 4,
 "nbformat_minor": 4
}
